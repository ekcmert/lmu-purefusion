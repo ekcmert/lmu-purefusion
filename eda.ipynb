{
 "cells": [
  {
   "cell_type": "code",
   "execution_count": 1,
   "metadata": {},
   "outputs": [],
   "source": [
    "import pandas as pd\n",
    "import matplotlib.pyplot as plt\n",
    "import argparse\n",
    "import sys\n",
    "import torch\n",
    "import seaborn as sns\n"
   ]
  },
  {
   "cell_type": "code",
   "execution_count": 2,
   "metadata": {},
   "outputs": [],
   "source": [
    "\n",
    "def load_data(filepath):\n",
    "    \"\"\"\n",
    "    Loads the plant forecast data from a CSV file.\n",
    "    \"\"\"\n",
    "    try:\n",
    "        # Read CSV file. Adjust `parse_dates` if necessary depending on your columns.\n",
    "        df = pd.read_csv(filepath, parse_dates=['effectivedate'])\n",
    "        return df\n",
    "    except Exception as e:\n",
    "        print(f\"Error reading the CSV file: {e}\")\n",
    "        sys.exit(1)"
   ]
  },
  {
   "cell_type": "code",
   "execution_count": 3,
   "metadata": {},
   "outputs": [],
   "source": [
    "data=load_data(\"final_data.csv\")"
   ]
  },
  {
   "cell_type": "code",
   "execution_count": 4,
   "metadata": {},
   "outputs": [
    {
     "name": "stdout",
     "output_type": "stream",
     "text": [
      "datetime64[ns]\n"
     ]
    }
   ],
   "source": [
    "print(data['effectivedate'].dtype)\n"
   ]
  },
  {
   "cell_type": "code",
   "execution_count": 5,
   "metadata": {},
   "outputs": [
    {
     "data": {
      "text/html": [
       "<div>\n",
       "<style scoped>\n",
       "    .dataframe tbody tr th:only-of-type {\n",
       "        vertical-align: middle;\n",
       "    }\n",
       "\n",
       "    .dataframe tbody tr th {\n",
       "        vertical-align: top;\n",
       "    }\n",
       "\n",
       "    .dataframe thead th {\n",
       "        text-align: right;\n",
       "    }\n",
       "</style>\n",
       "<table border=\"1\" class=\"dataframe\">\n",
       "  <thead>\n",
       "    <tr style=\"text-align: right;\">\n",
       "      <th></th>\n",
       "      <th>effectivedate</th>\n",
       "      <th>forecast_provider</th>\n",
       "      <th>plant_name</th>\n",
       "      <th>fc0</th>\n",
       "      <th>fc1200</th>\n",
       "      <th>fc40</th>\n",
       "      <th>fc55</th>\n",
       "      <th>fc60</th>\n",
       "      <th>fc75</th>\n",
       "      <th>production</th>\n",
       "      <th>...</th>\n",
       "      <th>sunshine_duration</th>\n",
       "      <th>precipitation_sum</th>\n",
       "      <th>rain_sum</th>\n",
       "      <th>showers_sum</th>\n",
       "      <th>snowfall_sum</th>\n",
       "      <th>precipitation_hours</th>\n",
       "      <th>wind_speed_10m_max</th>\n",
       "      <th>wind_gusts_10m_max</th>\n",
       "      <th>wind_direction_10m_dominant</th>\n",
       "      <th>shortwave_radiation_sum</th>\n",
       "    </tr>\n",
       "  </thead>\n",
       "  <tbody>\n",
       "    <tr>\n",
       "      <th>0</th>\n",
       "      <td>2022-01-01 00:00:00</td>\n",
       "      <td>Provider 1</td>\n",
       "      <td>Plant A</td>\n",
       "      <td>5.498515</td>\n",
       "      <td>8.245363</td>\n",
       "      <td>2.456326</td>\n",
       "      <td>2.932484</td>\n",
       "      <td>2.932484</td>\n",
       "      <td>2.371797</td>\n",
       "      <td>11.886</td>\n",
       "      <td>...</td>\n",
       "      <td>30312.5</td>\n",
       "      <td>0.0</td>\n",
       "      <td>0.0</td>\n",
       "      <td>0.0</td>\n",
       "      <td>0.0</td>\n",
       "      <td>0.0</td>\n",
       "      <td>9.7</td>\n",
       "      <td>25.9</td>\n",
       "      <td>38.0</td>\n",
       "      <td>8.58</td>\n",
       "    </tr>\n",
       "    <tr>\n",
       "      <th>1</th>\n",
       "      <td>2022-01-01 00:00:00</td>\n",
       "      <td>Provider 2</td>\n",
       "      <td>Plant A</td>\n",
       "      <td>5.040864</td>\n",
       "      <td>8.276702</td>\n",
       "      <td>7.520027</td>\n",
       "      <td>7.263067</td>\n",
       "      <td>7.088938</td>\n",
       "      <td>6.841885</td>\n",
       "      <td>11.886</td>\n",
       "      <td>...</td>\n",
       "      <td>30312.5</td>\n",
       "      <td>0.0</td>\n",
       "      <td>0.0</td>\n",
       "      <td>0.0</td>\n",
       "      <td>0.0</td>\n",
       "      <td>0.0</td>\n",
       "      <td>9.7</td>\n",
       "      <td>25.9</td>\n",
       "      <td>38.0</td>\n",
       "      <td>8.58</td>\n",
       "    </tr>\n",
       "    <tr>\n",
       "      <th>2</th>\n",
       "      <td>2022-01-01 00:00:00</td>\n",
       "      <td>Provider 5</td>\n",
       "      <td>Plant A</td>\n",
       "      <td>5.498520</td>\n",
       "      <td>8.245360</td>\n",
       "      <td>2.456330</td>\n",
       "      <td>2.932480</td>\n",
       "      <td>2.932480</td>\n",
       "      <td>2.371800</td>\n",
       "      <td>11.886</td>\n",
       "      <td>...</td>\n",
       "      <td>30312.5</td>\n",
       "      <td>0.0</td>\n",
       "      <td>0.0</td>\n",
       "      <td>0.0</td>\n",
       "      <td>0.0</td>\n",
       "      <td>0.0</td>\n",
       "      <td>9.7</td>\n",
       "      <td>25.9</td>\n",
       "      <td>38.0</td>\n",
       "      <td>8.58</td>\n",
       "    </tr>\n",
       "    <tr>\n",
       "      <th>3</th>\n",
       "      <td>2022-01-01 01:00:00</td>\n",
       "      <td>Provider 1</td>\n",
       "      <td>Plant A</td>\n",
       "      <td>9.926987</td>\n",
       "      <td>6.013426</td>\n",
       "      <td>5.336242</td>\n",
       "      <td>3.760841</td>\n",
       "      <td>3.760841</td>\n",
       "      <td>2.797678</td>\n",
       "      <td>9.897</td>\n",
       "      <td>...</td>\n",
       "      <td>30312.5</td>\n",
       "      <td>0.0</td>\n",
       "      <td>0.0</td>\n",
       "      <td>0.0</td>\n",
       "      <td>0.0</td>\n",
       "      <td>0.0</td>\n",
       "      <td>9.7</td>\n",
       "      <td>25.9</td>\n",
       "      <td>38.0</td>\n",
       "      <td>8.58</td>\n",
       "    </tr>\n",
       "    <tr>\n",
       "      <th>4</th>\n",
       "      <td>2022-01-01 01:00:00</td>\n",
       "      <td>Provider 2</td>\n",
       "      <td>Plant A</td>\n",
       "      <td>9.561205</td>\n",
       "      <td>6.252626</td>\n",
       "      <td>8.984542</td>\n",
       "      <td>7.975365</td>\n",
       "      <td>7.543575</td>\n",
       "      <td>6.340461</td>\n",
       "      <td>9.897</td>\n",
       "      <td>...</td>\n",
       "      <td>30312.5</td>\n",
       "      <td>0.0</td>\n",
       "      <td>0.0</td>\n",
       "      <td>0.0</td>\n",
       "      <td>0.0</td>\n",
       "      <td>0.0</td>\n",
       "      <td>9.7</td>\n",
       "      <td>25.9</td>\n",
       "      <td>38.0</td>\n",
       "      <td>8.58</td>\n",
       "    </tr>\n",
       "  </tbody>\n",
       "</table>\n",
       "<p>5 rows × 51 columns</p>\n",
       "</div>"
      ],
      "text/plain": [
       "        effectivedate forecast_provider plant_name       fc0    fc1200  \\\n",
       "0 2022-01-01 00:00:00        Provider 1    Plant A  5.498515  8.245363   \n",
       "1 2022-01-01 00:00:00        Provider 2    Plant A  5.040864  8.276702   \n",
       "2 2022-01-01 00:00:00        Provider 5    Plant A  5.498520  8.245360   \n",
       "3 2022-01-01 01:00:00        Provider 1    Plant A  9.926987  6.013426   \n",
       "4 2022-01-01 01:00:00        Provider 2    Plant A  9.561205  6.252626   \n",
       "\n",
       "       fc40      fc55      fc60      fc75  production  ...  sunshine_duration  \\\n",
       "0  2.456326  2.932484  2.932484  2.371797      11.886  ...            30312.5   \n",
       "1  7.520027  7.263067  7.088938  6.841885      11.886  ...            30312.5   \n",
       "2  2.456330  2.932480  2.932480  2.371800      11.886  ...            30312.5   \n",
       "3  5.336242  3.760841  3.760841  2.797678       9.897  ...            30312.5   \n",
       "4  8.984542  7.975365  7.543575  6.340461       9.897  ...            30312.5   \n",
       "\n",
       "   precipitation_sum  rain_sum  showers_sum  snowfall_sum  \\\n",
       "0                0.0       0.0          0.0           0.0   \n",
       "1                0.0       0.0          0.0           0.0   \n",
       "2                0.0       0.0          0.0           0.0   \n",
       "3                0.0       0.0          0.0           0.0   \n",
       "4                0.0       0.0          0.0           0.0   \n",
       "\n",
       "   precipitation_hours  wind_speed_10m_max  wind_gusts_10m_max  \\\n",
       "0                  0.0                 9.7                25.9   \n",
       "1                  0.0                 9.7                25.9   \n",
       "2                  0.0                 9.7                25.9   \n",
       "3                  0.0                 9.7                25.9   \n",
       "4                  0.0                 9.7                25.9   \n",
       "\n",
       "   wind_direction_10m_dominant  shortwave_radiation_sum  \n",
       "0                         38.0                     8.58  \n",
       "1                         38.0                     8.58  \n",
       "2                         38.0                     8.58  \n",
       "3                         38.0                     8.58  \n",
       "4                         38.0                     8.58  \n",
       "\n",
       "[5 rows x 51 columns]"
      ]
     },
     "execution_count": 5,
     "metadata": {},
     "output_type": "execute_result"
    }
   ],
   "source": [
    "data.head()"
   ]
  },
  {
   "cell_type": "code",
   "execution_count": 6,
   "metadata": {},
   "outputs": [
    {
     "data": {
      "text/plain": [
       "1165425"
      ]
     },
     "execution_count": 6,
     "metadata": {},
     "output_type": "execute_result"
    }
   ],
   "source": [
    "len(data)"
   ]
  },
  {
   "cell_type": "code",
   "execution_count": 7,
   "metadata": {},
   "outputs": [],
   "source": [
    "def summarize_entries(data):\n",
    "    \"\"\"\n",
    "    Summarizes the number of entries for each plant with respect to Provider 1 and Provider 2.\n",
    "\n",
    "    Args:\n",
    "        data (pd.DataFrame): The plant forecast DataFrame.\n",
    "\n",
    "    Returns:\n",
    "        pd.DataFrame: A summary table of entry counts.\n",
    "    \"\"\"\n",
    "    # Extract hour from the datetime column\n",
    "    data['hour'] = data['effectivedate'].dt.floor('h')\n",
    "\n",
    "    # Group by plant and provider, then count unique hours\n",
    "    summary = (\n",
    "        data.groupby(['plant_name', 'forecast_provider'])\n",
    "        .size()\n",
    "        .unstack(fill_value=0)\n",
    "        .rename(columns={col: f\"Count_{col}\" for col in data['forecast_provider'].unique()})\n",
    "    )\n",
    "    return summary\n"
   ]
  },
  {
   "cell_type": "code",
   "execution_count": 8,
   "metadata": {},
   "outputs": [
    {
     "name": "stdout",
     "output_type": "stream",
     "text": [
      "forecast_provider  Count_Provider 1  Count_Provider 2  Count_Provider 3  \\\n",
      "plant_name                                                                \n",
      "Plant A                       25514             25493                 0   \n",
      "Plant B                       25514             25493                 0   \n",
      "Plant C                       25490             25495              4200   \n",
      "Plant D                       25514             25493                 0   \n",
      "Plant E                       25514             25519                 0   \n",
      "Plant F                       25514             25493                 0   \n",
      "Plant G                       25514             25519              2304   \n",
      "Plant H                       25514             25493                 0   \n",
      "Plant I                       25514             16423                 0   \n",
      "Plant J                       25514             25493                 0   \n",
      "Plant K                       25514             25493                 0   \n",
      "Plant L                       24770             16423                 0   \n",
      "Plant M                       16706             16423                 0   \n",
      "Plant N                       14594             13615                 0   \n",
      "\n",
      "forecast_provider  Count_Provider 4  Count_Provider 5  Count_Provider 6  \n",
      "plant_name                                                               \n",
      "Plant A                           0             25478             10274  \n",
      "Plant B                           0             25478             10274  \n",
      "Plant C                           0             24810             10274  \n",
      "Plant D                        8256             25482             10274  \n",
      "Plant E                           0             25506             10274  \n",
      "Plant F                           0             25478             10274  \n",
      "Plant G                           0             25502             10274  \n",
      "Plant H                           0             25506             10274  \n",
      "Plant I                           0             25482             10274  \n",
      "Plant J                        8256             25478             10274  \n",
      "Plant K                        8257             25506             10274  \n",
      "Plant L                           0             24762             10274  \n",
      "Plant M                           0             16694             10274  \n",
      "Plant N                           0             14586             10274  \n"
     ]
    }
   ],
   "source": [
    "summary_table = summarize_entries(data)\n",
    "\n",
    "# Display the summary\n",
    "print(summary_table)"
   ]
  },
  {
   "cell_type": "code",
   "execution_count": 10,
   "metadata": {},
   "outputs": [
    {
     "name": "stderr",
     "output_type": "stream",
     "text": [
      "C:\\Users\\mert.ekici\\AppData\\Local\\Temp\\ipykernel_12548\\1112650995.py:18: SettingWithCopyWarning: \n",
      "A value is trying to be set on a copy of a slice from a DataFrame.\n",
      "Try using .loc[row_indexer,col_indexer] = value instead\n",
      "\n",
      "See the caveats in the documentation: https://pandas.pydata.org/pandas-docs/stable/user_guide/indexing.html#returning-a-view-versus-a-copy\n",
      "  filtered_data['hour'] = filtered_data['effectivedate'].dt.floor('h')\n"
     ]
    }
   ],
   "source": [
    "import pandas as pd\n",
    "\n",
    "def summarize_entries_for_providers(data, providers):\n",
    "    \"\"\"\n",
    "    Summarizes the number of entries for each plant with respect to specific providers.\n",
    "\n",
    "    Args:\n",
    "        data (pd.DataFrame): The plant forecast DataFrame.\n",
    "        providers (list): List of providers to include in the summary.\n",
    "\n",
    "    Returns:\n",
    "        pd.DataFrame: A summary table of entry counts for the specified providers.\n",
    "    \"\"\"\n",
    "    # Filter the data for the specified providers\n",
    "    filtered_data = data[data['forecast_provider'].isin(providers)]\n",
    "\n",
    "    # Extract hour from the datetime column\n",
    "    filtered_data['hour'] = filtered_data['effectivedate'].dt.floor('h')\n",
    "\n",
    "    # Group by plant and provider, then count unique hours\n",
    "    summary = (\n",
    "        filtered_data.groupby(['plant_name', 'forecast_provider'])\n",
    "        .size()\n",
    "        .unstack(fill_value=0)\n",
    "        .rename(columns={provider: f\"Count_{provider}\" for provider in providers})\n",
    "    )\n",
    "    return summary\n",
    "\n",
    "# Example usage\n",
    "# Define the providers to filter\n",
    "selected_providers = ['Provider 1', 'Provider 2', 'Provider 3', 'Provider 4']\n",
    "\n",
    "# Generate the summary for selected providers\n",
    "summary_table = summarize_entries_for_providers(data, selected_providers)\n",
    "\n"
   ]
  },
  {
   "cell_type": "code",
   "execution_count": 11,
   "metadata": {},
   "outputs": [
    {
     "data": {
      "text/html": [
       "<div>\n",
       "<style scoped>\n",
       "    .dataframe tbody tr th:only-of-type {\n",
       "        vertical-align: middle;\n",
       "    }\n",
       "\n",
       "    .dataframe tbody tr th {\n",
       "        vertical-align: top;\n",
       "    }\n",
       "\n",
       "    .dataframe thead th {\n",
       "        text-align: right;\n",
       "    }\n",
       "</style>\n",
       "<table border=\"1\" class=\"dataframe\">\n",
       "  <thead>\n",
       "    <tr style=\"text-align: right;\">\n",
       "      <th>forecast_provider</th>\n",
       "      <th>Count_Provider 1</th>\n",
       "      <th>Count_Provider 2</th>\n",
       "      <th>Count_Provider 3</th>\n",
       "      <th>Count_Provider 4</th>\n",
       "    </tr>\n",
       "    <tr>\n",
       "      <th>plant_name</th>\n",
       "      <th></th>\n",
       "      <th></th>\n",
       "      <th></th>\n",
       "      <th></th>\n",
       "    </tr>\n",
       "  </thead>\n",
       "  <tbody>\n",
       "    <tr>\n",
       "      <th>Plant A</th>\n",
       "      <td>25514</td>\n",
       "      <td>25493</td>\n",
       "      <td>0</td>\n",
       "      <td>0</td>\n",
       "    </tr>\n",
       "    <tr>\n",
       "      <th>Plant B</th>\n",
       "      <td>25514</td>\n",
       "      <td>25493</td>\n",
       "      <td>0</td>\n",
       "      <td>0</td>\n",
       "    </tr>\n",
       "    <tr>\n",
       "      <th>Plant C</th>\n",
       "      <td>25490</td>\n",
       "      <td>25495</td>\n",
       "      <td>4200</td>\n",
       "      <td>0</td>\n",
       "    </tr>\n",
       "    <tr>\n",
       "      <th>Plant D</th>\n",
       "      <td>25514</td>\n",
       "      <td>25493</td>\n",
       "      <td>0</td>\n",
       "      <td>8256</td>\n",
       "    </tr>\n",
       "    <tr>\n",
       "      <th>Plant E</th>\n",
       "      <td>25514</td>\n",
       "      <td>25519</td>\n",
       "      <td>0</td>\n",
       "      <td>0</td>\n",
       "    </tr>\n",
       "    <tr>\n",
       "      <th>Plant F</th>\n",
       "      <td>25514</td>\n",
       "      <td>25493</td>\n",
       "      <td>0</td>\n",
       "      <td>0</td>\n",
       "    </tr>\n",
       "    <tr>\n",
       "      <th>Plant G</th>\n",
       "      <td>25514</td>\n",
       "      <td>25519</td>\n",
       "      <td>2304</td>\n",
       "      <td>0</td>\n",
       "    </tr>\n",
       "    <tr>\n",
       "      <th>Plant H</th>\n",
       "      <td>25514</td>\n",
       "      <td>25493</td>\n",
       "      <td>0</td>\n",
       "      <td>0</td>\n",
       "    </tr>\n",
       "    <tr>\n",
       "      <th>Plant I</th>\n",
       "      <td>25514</td>\n",
       "      <td>16423</td>\n",
       "      <td>0</td>\n",
       "      <td>0</td>\n",
       "    </tr>\n",
       "    <tr>\n",
       "      <th>Plant J</th>\n",
       "      <td>25514</td>\n",
       "      <td>25493</td>\n",
       "      <td>0</td>\n",
       "      <td>8256</td>\n",
       "    </tr>\n",
       "    <tr>\n",
       "      <th>Plant K</th>\n",
       "      <td>25514</td>\n",
       "      <td>25493</td>\n",
       "      <td>0</td>\n",
       "      <td>8257</td>\n",
       "    </tr>\n",
       "    <tr>\n",
       "      <th>Plant L</th>\n",
       "      <td>24770</td>\n",
       "      <td>16423</td>\n",
       "      <td>0</td>\n",
       "      <td>0</td>\n",
       "    </tr>\n",
       "    <tr>\n",
       "      <th>Plant M</th>\n",
       "      <td>16706</td>\n",
       "      <td>16423</td>\n",
       "      <td>0</td>\n",
       "      <td>0</td>\n",
       "    </tr>\n",
       "    <tr>\n",
       "      <th>Plant N</th>\n",
       "      <td>14594</td>\n",
       "      <td>13615</td>\n",
       "      <td>0</td>\n",
       "      <td>0</td>\n",
       "    </tr>\n",
       "  </tbody>\n",
       "</table>\n",
       "</div>"
      ],
      "text/plain": [
       "forecast_provider  Count_Provider 1  Count_Provider 2  Count_Provider 3  \\\n",
       "plant_name                                                                \n",
       "Plant A                       25514             25493                 0   \n",
       "Plant B                       25514             25493                 0   \n",
       "Plant C                       25490             25495              4200   \n",
       "Plant D                       25514             25493                 0   \n",
       "Plant E                       25514             25519                 0   \n",
       "Plant F                       25514             25493                 0   \n",
       "Plant G                       25514             25519              2304   \n",
       "Plant H                       25514             25493                 0   \n",
       "Plant I                       25514             16423                 0   \n",
       "Plant J                       25514             25493                 0   \n",
       "Plant K                       25514             25493                 0   \n",
       "Plant L                       24770             16423                 0   \n",
       "Plant M                       16706             16423                 0   \n",
       "Plant N                       14594             13615                 0   \n",
       "\n",
       "forecast_provider  Count_Provider 4  \n",
       "plant_name                           \n",
       "Plant A                           0  \n",
       "Plant B                           0  \n",
       "Plant C                           0  \n",
       "Plant D                        8256  \n",
       "Plant E                           0  \n",
       "Plant F                           0  \n",
       "Plant G                           0  \n",
       "Plant H                           0  \n",
       "Plant I                           0  \n",
       "Plant J                        8256  \n",
       "Plant K                        8257  \n",
       "Plant L                           0  \n",
       "Plant M                           0  \n",
       "Plant N                           0  "
      ]
     },
     "execution_count": 11,
     "metadata": {},
     "output_type": "execute_result"
    }
   ],
   "source": [
    "summary_table"
   ]
  },
  {
   "cell_type": "code",
   "execution_count": 11,
   "metadata": {},
   "outputs": [],
   "source": [
    "def find_missing_hours(data, plants, providers):\n",
    "    \"\"\"\n",
    "    Finds missing hours within the range of `effectivedate` for each plant and provider.\n",
    "\n",
    "    Args:\n",
    "        data (pd.DataFrame): The plant forecast DataFrame.\n",
    "        plants (list): List of plants to include in the analysis.\n",
    "        providers (list): List of providers to check.\n",
    "\n",
    "    Returns:\n",
    "        dict: A dictionary where keys are plant names, and values are DataFrames of missing hours for each provider.\n",
    "    \"\"\"\n",
    "    # Filter data for the specified plants and providers\n",
    "    filtered_data = data[\n",
    "        (data['plant_name'].isin(plants)) & (data['forecast_provider'].isin(providers))\n",
    "    ]\n",
    "\n",
    "    # Extract hour from the datetime column\n",
    "    filtered_data['hour'] = filtered_data['effectivedate'].dt.floor('h')\n",
    "\n",
    "    # Initialize result dictionary\n",
    "    missing_hours = {}\n",
    "\n",
    "    # Loop through each plant\n",
    "    for plant in plants:\n",
    "        plant_data = filtered_data[filtered_data['plant_name'] == plant]\n",
    "        plant_missing = {}\n",
    "\n",
    "        # Loop through each provider\n",
    "        for provider in providers:\n",
    "            provider_data = plant_data[plant_data['forecast_provider'] == provider]\n",
    "            if not provider_data.empty:\n",
    "                # Determine the full range of hours\n",
    "                full_range = pd.date_range(\n",
    "                    start=provider_data['hour'].min(),\n",
    "                    end=provider_data['hour'].max(),\n",
    "                    freq='H'\n",
    "                )\n",
    "\n",
    "                # Find missing hours\n",
    "                recorded_hours = provider_data['hour'].unique()\n",
    "                missing = set(full_range) - set(recorded_hours)\n",
    "                plant_missing[provider] = sorted(missing)\n",
    "\n",
    "        if plant_missing:\n",
    "            missing_hours[plant] = plant_missing\n",
    "\n",
    "    return missing_hours"
   ]
  },
  {
   "cell_type": "code",
   "execution_count": 12,
   "metadata": {},
   "outputs": [
    {
     "name": "stderr",
     "output_type": "stream",
     "text": [
      "/var/folders/bk/zhl3wr5n70l9ksm1f1hwrhnc0000gn/T/ipykernel_9253/3857231831.py:19: SettingWithCopyWarning: \n",
      "A value is trying to be set on a copy of a slice from a DataFrame.\n",
      "Try using .loc[row_indexer,col_indexer] = value instead\n",
      "\n",
      "See the caveats in the documentation: https://pandas.pydata.org/pandas-docs/stable/user_guide/indexing.html#returning-a-view-versus-a-copy\n",
      "  filtered_data['hour'] = filtered_data['effectivedate'].dt.floor('h')\n",
      "/var/folders/bk/zhl3wr5n70l9ksm1f1hwrhnc0000gn/T/ipykernel_9253/3857231831.py:34: FutureWarning: 'H' is deprecated and will be removed in a future version, please use 'h' instead.\n",
      "  full_range = pd.date_range(\n"
     ]
    }
   ],
   "source": [
    "\n",
    "# List of plants A to K\n",
    "plants_A_to_K = [f\"Plant {chr(65 + i)}\" for i in range(11)]  # Generates ['Plant A', ..., 'Plant K']\n",
    "providers_to_compare = ['Provider 1', 'Provider 2']\n",
    "# Example usage\n",
    "# Find missing hours for plants A to K and Providers 1 and 2\n",
    "missing_hours_data = find_missing_hours(data, plants_A_to_K, providers_to_compare)"
   ]
  },
  {
   "cell_type": "code",
   "execution_count": 13,
   "metadata": {},
   "outputs": [
    {
     "name": "stdout",
     "output_type": "stream",
     "text": [
      "Missing hours for Plant A:\n",
      "  Provider 1: [Timestamp('2023-08-06 00:00:00'), Timestamp('2023-08-06 01:00:00'), Timestamp('2023-08-06 02:00:00'), Timestamp('2023-08-06 03:00:00'), Timestamp('2023-08-06 04:00:00')]... (46 total)\n",
      "  Provider 2: [Timestamp('2022-01-13 22:00:00'), Timestamp('2022-01-13 23:00:00'), Timestamp('2022-01-28 00:00:00'), Timestamp('2022-01-28 01:00:00'), Timestamp('2022-01-28 02:00:00')]... (67 total)\n",
      "\n",
      "Missing hours for Plant B:\n",
      "  Provider 1: [Timestamp('2023-08-06 00:00:00'), Timestamp('2023-08-06 01:00:00'), Timestamp('2023-08-06 02:00:00'), Timestamp('2023-08-06 03:00:00'), Timestamp('2023-08-06 04:00:00')]... (46 total)\n",
      "  Provider 2: [Timestamp('2022-01-13 22:00:00'), Timestamp('2022-01-13 23:00:00'), Timestamp('2022-01-28 00:00:00'), Timestamp('2022-01-28 01:00:00'), Timestamp('2022-01-28 02:00:00')]... (67 total)\n",
      "\n",
      "Missing hours for Plant C:\n",
      "  Provider 1: [Timestamp('2023-08-06 00:00:00'), Timestamp('2023-08-06 01:00:00'), Timestamp('2023-08-06 02:00:00'), Timestamp('2023-08-06 03:00:00'), Timestamp('2023-08-06 04:00:00')]... (70 total)\n",
      "  Provider 2: [Timestamp('2022-01-28 00:00:00'), Timestamp('2022-01-28 01:00:00'), Timestamp('2022-01-28 02:00:00'), Timestamp('2022-01-28 03:00:00'), Timestamp('2022-01-28 04:00:00')]... (65 total)\n",
      "\n",
      "Missing hours for Plant D:\n",
      "  Provider 1: [Timestamp('2023-08-06 00:00:00'), Timestamp('2023-08-06 01:00:00'), Timestamp('2023-08-06 02:00:00'), Timestamp('2023-08-06 03:00:00'), Timestamp('2023-08-06 04:00:00')]... (46 total)\n",
      "  Provider 2: [Timestamp('2022-01-13 22:00:00'), Timestamp('2022-01-13 23:00:00'), Timestamp('2022-01-28 00:00:00'), Timestamp('2022-01-28 01:00:00'), Timestamp('2022-01-28 02:00:00')]... (67 total)\n",
      "\n",
      "Missing hours for Plant E:\n",
      "  Provider 1: [Timestamp('2023-08-06 00:00:00'), Timestamp('2023-08-06 01:00:00'), Timestamp('2023-08-06 02:00:00'), Timestamp('2023-08-06 03:00:00'), Timestamp('2023-08-06 04:00:00')]... (46 total)\n",
      "  Provider 2: [Timestamp('2023-08-06 00:00:00'), Timestamp('2023-08-06 01:00:00'), Timestamp('2023-08-06 02:00:00'), Timestamp('2023-08-06 03:00:00'), Timestamp('2023-08-06 04:00:00')]... (41 total)\n",
      "\n",
      "Missing hours for Plant F:\n",
      "  Provider 1: [Timestamp('2023-08-06 00:00:00'), Timestamp('2023-08-06 01:00:00'), Timestamp('2023-08-06 02:00:00'), Timestamp('2023-08-06 03:00:00'), Timestamp('2023-08-06 04:00:00')]... (46 total)\n",
      "  Provider 2: [Timestamp('2022-01-13 22:00:00'), Timestamp('2022-01-13 23:00:00'), Timestamp('2022-01-28 00:00:00'), Timestamp('2022-01-28 01:00:00'), Timestamp('2022-01-28 02:00:00')]... (67 total)\n",
      "\n",
      "Missing hours for Plant G:\n",
      "  Provider 1: [Timestamp('2023-08-06 00:00:00'), Timestamp('2023-08-06 01:00:00'), Timestamp('2023-08-06 02:00:00'), Timestamp('2023-08-06 03:00:00'), Timestamp('2023-08-06 04:00:00')]... (46 total)\n",
      "  Provider 2: [Timestamp('2023-08-06 00:00:00'), Timestamp('2023-08-06 01:00:00'), Timestamp('2023-08-06 02:00:00'), Timestamp('2023-08-06 03:00:00'), Timestamp('2023-08-06 04:00:00')]... (41 total)\n",
      "\n",
      "Missing hours for Plant H:\n",
      "  Provider 1: [Timestamp('2023-08-06 00:00:00'), Timestamp('2023-08-06 01:00:00'), Timestamp('2023-08-06 02:00:00'), Timestamp('2023-08-06 03:00:00'), Timestamp('2023-08-06 04:00:00')]... (46 total)\n",
      "  Provider 2: [Timestamp('2022-01-13 22:00:00'), Timestamp('2022-01-13 23:00:00'), Timestamp('2022-01-28 00:00:00'), Timestamp('2022-01-28 01:00:00'), Timestamp('2022-01-28 02:00:00')]... (67 total)\n",
      "\n",
      "Missing hours for Plant I:\n",
      "  Provider 1: [Timestamp('2023-08-06 00:00:00'), Timestamp('2023-08-06 01:00:00'), Timestamp('2023-08-06 02:00:00'), Timestamp('2023-08-06 03:00:00'), Timestamp('2023-08-06 04:00:00')]... (46 total)\n",
      "  Provider 2: [Timestamp('2023-08-06 00:00:00'), Timestamp('2023-08-06 01:00:00'), Timestamp('2023-08-06 02:00:00'), Timestamp('2023-08-06 03:00:00'), Timestamp('2023-08-06 04:00:00')]... (41 total)\n",
      "\n",
      "Missing hours for Plant J:\n",
      "  Provider 1: [Timestamp('2023-08-06 00:00:00'), Timestamp('2023-08-06 01:00:00'), Timestamp('2023-08-06 02:00:00'), Timestamp('2023-08-06 03:00:00'), Timestamp('2023-08-06 04:00:00')]... (46 total)\n",
      "  Provider 2: [Timestamp('2022-01-13 22:00:00'), Timestamp('2022-01-13 23:00:00'), Timestamp('2022-01-28 00:00:00'), Timestamp('2022-01-28 01:00:00'), Timestamp('2022-01-28 02:00:00')]... (67 total)\n",
      "\n",
      "Missing hours for Plant K:\n",
      "  Provider 1: [Timestamp('2023-08-06 00:00:00'), Timestamp('2023-08-06 01:00:00'), Timestamp('2023-08-06 02:00:00'), Timestamp('2023-08-06 03:00:00'), Timestamp('2023-08-06 04:00:00')]... (46 total)\n",
      "  Provider 2: [Timestamp('2022-01-13 22:00:00'), Timestamp('2022-01-13 23:00:00'), Timestamp('2022-01-28 00:00:00'), Timestamp('2022-01-28 01:00:00'), Timestamp('2022-01-28 02:00:00')]... (67 total)\n",
      "\n"
     ]
    }
   ],
   "source": [
    "# Display missing hours\n",
    "for plant, missing_info in missing_hours_data.items():\n",
    "    print(f\"Missing hours for {plant}:\")\n",
    "    for provider, missing_hours in missing_info.items():\n",
    "        print(f\"  {provider}: {missing_hours[:5]}... ({len(missing_hours)} total)\")  # Display first 5 for brevity\n",
    "    print()"
   ]
  },
  {
   "cell_type": "code",
   "execution_count": 14,
   "metadata": {},
   "outputs": [
    {
     "name": "stderr",
     "output_type": "stream",
     "text": [
      "/var/folders/bk/zhl3wr5n70l9ksm1f1hwrhnc0000gn/T/ipykernel_9253/3857231831.py:19: SettingWithCopyWarning: \n",
      "A value is trying to be set on a copy of a slice from a DataFrame.\n",
      "Try using .loc[row_indexer,col_indexer] = value instead\n",
      "\n",
      "See the caveats in the documentation: https://pandas.pydata.org/pandas-docs/stable/user_guide/indexing.html#returning-a-view-versus-a-copy\n",
      "  filtered_data['hour'] = filtered_data['effectivedate'].dt.floor('h')\n",
      "/var/folders/bk/zhl3wr5n70l9ksm1f1hwrhnc0000gn/T/ipykernel_9253/3857231831.py:34: FutureWarning: 'H' is deprecated and will be removed in a future version, please use 'h' instead.\n",
      "  full_range = pd.date_range(\n"
     ]
    },
    {
     "name": "stdout",
     "output_type": "stream",
     "text": [
      "Plant: Plant A\n",
      "  Provider: Provider 1, Missing Hours: 46\n",
      "  Provider: Provider 2, Missing Hours: 67\n",
      "Plant: Plant B\n",
      "  Provider: Provider 1, Missing Hours: 46\n",
      "  Provider: Provider 2, Missing Hours: 67\n",
      "Plant: Plant C\n",
      "  Provider: Provider 1, Missing Hours: 70\n",
      "  Provider: Provider 2, Missing Hours: 65\n",
      "Plant: Plant D\n",
      "  Provider: Provider 1, Missing Hours: 46\n",
      "  Provider: Provider 2, Missing Hours: 67\n",
      "Plant: Plant E\n",
      "  Provider: Provider 1, Missing Hours: 46\n",
      "  Provider: Provider 2, Missing Hours: 41\n",
      "Plant: Plant F\n",
      "  Provider: Provider 1, Missing Hours: 46\n",
      "  Provider: Provider 2, Missing Hours: 67\n",
      "Plant: Plant G\n",
      "  Provider: Provider 1, Missing Hours: 46\n",
      "  Provider: Provider 2, Missing Hours: 41\n",
      "Plant: Plant H\n",
      "  Provider: Provider 1, Missing Hours: 46\n",
      "  Provider: Provider 2, Missing Hours: 67\n",
      "Plant: Plant I\n",
      "  Provider: Provider 1, Missing Hours: 46\n",
      "  Provider: Provider 2, Missing Hours: 41\n",
      "Plant: Plant J\n",
      "  Provider: Provider 1, Missing Hours: 46\n",
      "  Provider: Provider 2, Missing Hours: 67\n",
      "Plant: Plant K\n",
      "  Provider: Provider 1, Missing Hours: 46\n",
      "  Provider: Provider 2, Missing Hours: 67\n",
      "Plant: Plant L\n",
      "  Provider: Provider 1, Missing Hours: 46\n",
      "  Provider: Provider 2, Missing Hours: 41\n",
      "Plant: Plant M\n",
      "  Provider: Provider 1, Missing Hours: 46\n",
      "  Provider: Provider 2, Missing Hours: 41\n",
      "Plant: Plant N\n",
      "  Provider: Provider 1, Missing Hours: 46\n",
      "  Provider: Provider 2, Missing Hours: 41\n"
     ]
    }
   ],
   "source": [
    "# Define plants and providers\n",
    "plants = data['plant_name'].unique().tolist()\n",
    "providers = ['Provider 1', 'Provider 2']  # Specify the providers you want to impute\n",
    "\n",
    "# Find missing hours\n",
    "missing_hours_dict = find_missing_hours(data, plants, providers)\n",
    "\n",
    "# Display missing hours\n",
    "for plant, providers_missing in missing_hours_dict.items():\n",
    "    print(f\"Plant: {plant}\")\n",
    "    for provider, missing_hours in providers_missing.items():\n",
    "        print(f\"  Provider: {provider}, Missing Hours: {len(missing_hours)}\")"
   ]
  },
  {
   "cell_type": "code",
   "execution_count": 27,
   "metadata": {},
   "outputs": [],
   "source": [
    "def check_entry_consistency(data):\n",
    "    \"\"\"\n",
    "    Checks if all plants have the same number of entries for each hour \n",
    "    with respect to Provider 1 and Provider 2.\n",
    "\n",
    "    Args:\n",
    "        data (pd.DataFrame): The plant forecast DataFrame.\n",
    "\n",
    "    Returns:\n",
    "        dict: A dictionary with plant names as keys and True/False as values indicating consistency.\n",
    "    \"\"\"\n",
    "    # Ensure the data contains only necessary columns\n",
    "    required_columns = ['effectivedate', 'forecast_provider', 'plant_name']\n",
    "    if not all(col in data.columns for col in required_columns):\n",
    "        raise ValueError(f\"The DataFrame must contain the following columns: {required_columns}\")\n",
    "\n",
    "    # Extract hour from the datetime column for grouping\n",
    "    data['hour'] = data['effectivedate'].dt.floor('h')  # Use 'h' as 'H' is deprecated\n",
    "\n",
    "    # Group data by plant, hour, and provider\n",
    "    grouped = data.groupby(['plant_name', 'hour', 'forecast_provider']).size()\n",
    "\n",
    "    # Reshape to make it easier to compare counts across providers\n",
    "    reshaped = grouped.unstack(level='forecast_provider', fill_value=0)\n",
    "\n",
    "    # Compare counts between Provider 1 and Provider 2 for each plant\n",
    "    consistency_check = {}\n",
    "    for plant in reshaped.index.get_level_values('plant_name').unique():\n",
    "        plant_data = reshaped.loc[plant]\n",
    "        consistency_check[plant] = (plant_data['Provider 1'] == plant_data['Provider 2']).all()\n",
    "\n",
    "    # Return a dictionary indicating consistency for each plant\n",
    "    return consistency_check\n"
   ]
  },
  {
   "cell_type": "code",
   "execution_count": 28,
   "metadata": {},
   "outputs": [],
   "source": [
    "import seaborn"
   ]
  },
  {
   "cell_type": "code",
   "execution_count": 29,
   "metadata": {},
   "outputs": [
    {
     "name": "stdout",
     "output_type": "stream",
     "text": [
      "Plant Plant A: Consistent\n",
      "Plant Plant B: Consistent\n",
      "Plant Plant C: Consistent\n",
      "Plant Plant D: Consistent\n",
      "Plant Plant E: Consistent\n",
      "Plant Plant F: Consistent\n",
      "Plant Plant G: Consistent\n",
      "Plant Plant H: Consistent\n",
      "Plant Plant I: Inconsistent\n",
      "Plant Plant J: Consistent\n",
      "Plant Plant K: Consistent\n",
      "Plant Plant L: Inconsistent\n",
      "Plant Plant M: Inconsistent\n",
      "Plant Plant N: Inconsistent\n"
     ]
    }
   ],
   "source": [
    "# Example usage\n",
    "consistency_results = check_entry_consistency(complete_df)\n",
    "\n",
    "# Print results\n",
    "for plant, is_consistent in consistency_results.items():\n",
    "    print(f\"Plant {plant}: {'Consistent' if is_consistent else 'Inconsistent'}\")"
   ]
  },
  {
   "cell_type": "code",
   "execution_count": 36,
   "metadata": {},
   "outputs": [
    {
     "name": "stdout",
     "output_type": "stream",
     "text": [
      "Number of duplicate rows: 0\n"
     ]
    }
   ],
   "source": [
    "duplicates = data[data.duplicated()]\n",
    "print(f\"Number of duplicate rows: {len(duplicates)}\")\n"
   ]
  },
  {
   "cell_type": "code",
   "execution_count": 37,
   "metadata": {},
   "outputs": [
    {
     "name": "stdout",
     "output_type": "stream",
     "text": [
      "Empty DataFrame\n",
      "Columns: [effectivedate, forecast_provider, plant_name, fc0, fc1200, fc40, fc55, fc60, fc75, production, capacity, temperature_2m, relative_humidity_2m, dew_point_2m, apparent_temperature, precipitation, rain, showers, snowfall, snow_depth, weather_code_x, pressure_msl, surface_pressure, cloud_cover, cloud_cover_low, cloud_cover_mid, cloud_cover_high, et0_fao_evapotranspiration_x, vapour_pressure_deficit, wind_speed_10m, wind_direction_10m, wind_gusts_10m, weather_code_y, et0_fao_evapotranspiration_y, temperature_2m_max, temperature_2m_min, apparent_temperature_max, apparent_temperature_min, sunrise, sunset, daylight_duration, sunshine_duration, precipitation_sum, rain_sum, showers_sum, snowfall_sum, precipitation_hours, wind_speed_10m_max, wind_gusts_10m_max, wind_direction_10m_dominant, shortwave_radiation_sum, hour]\n",
      "Index: []\n",
      "\n",
      "[0 rows x 52 columns]\n"
     ]
    }
   ],
   "source": [
    "forecast_columns = [col for col in data.columns if col.startswith('fc')]\n",
    "negative_forecast = data[(data[forecast_columns] < 0).any(axis=1)]  # Example: No negative values allowed\n",
    "print(negative_forecast)"
   ]
  },
  {
   "cell_type": "code",
   "execution_count": 38,
   "metadata": {},
   "outputs": [
    {
     "name": "stdout",
     "output_type": "stream",
     "text": [
      "              effectivedate forecast_provider plant_name       fc0    fc1200  \\\n",
      "10      2022-01-01 10:00:00        Provider 1    Plant A  0.005345  1.260350   \n",
      "12      2022-01-01 12:00:00        Provider 1    Plant A  0.121923  0.555135   \n",
      "15      2022-01-01 15:00:00        Provider 1    Plant A  0.549746  0.700233   \n",
      "58      2022-01-03 10:00:00        Provider 1    Plant A  0.192992  0.664333   \n",
      "59      2022-01-03 11:00:00        Provider 1    Plant A  0.000000  0.508932   \n",
      "...                     ...               ...        ...       ...       ...   \n",
      "1166109 2024-10-29 06:00:00        Provider 6    Plant N  1.968124  2.484481   \n",
      "1166218 2024-11-02 19:00:00        Provider 6    Plant N  0.140911  0.137522   \n",
      "1166219 2024-11-02 20:00:00        Provider 6    Plant N  0.003329  0.058174   \n",
      "1166220 2024-11-02 21:00:00        Provider 6    Plant N  0.002458  0.030490   \n",
      "1166517 2024-11-15 06:00:00        Provider 6    Plant N  0.130872  0.060606   \n",
      "\n",
      "             fc40      fc55      fc60      fc75    production  ...  \\\n",
      "10       0.856747  1.086271  1.086271  0.929434 -8.300000e-02  ...   \n",
      "12       0.000958  0.000000  0.000000  0.000000 -9.100000e-02  ...   \n",
      "15       0.635996  0.504517  0.504517  0.501337 -3.000000e-03  ...   \n",
      "58       0.369456  0.283059  0.283059  0.288530 -7.000000e-02  ...   \n",
      "59       0.062113  0.151898  0.151898  0.156342 -1.070000e-01  ...   \n",
      "...           ...       ...       ...       ...           ...  ...   \n",
      "1166109  2.497348  2.364396  2.364396  2.723297 -3.300000e-07  ...   \n",
      "1166218  0.451277  0.402646  0.402646  0.356941 -6.800000e-01  ...   \n",
      "1166219  0.005897  0.006301  0.006301  0.009330 -6.800000e-01  ...   \n",
      "1166220  0.003486  0.003486  0.003486  0.003486 -6.700000e-01  ...   \n",
      "1166517  0.226163  0.044615  0.044615  0.044615 -6.600000e-01  ...   \n",
      "\n",
      "         precipitation_sum  rain_sum  showers_sum  snowfall_sum  \\\n",
      "10                     0.0       0.0          0.0           0.0   \n",
      "12                     0.0       0.0          0.0           0.0   \n",
      "15                     0.0       0.0          0.0           0.0   \n",
      "58                     0.0       0.0          0.0           0.0   \n",
      "59                     0.0       0.0          0.0           0.0   \n",
      "...                    ...       ...          ...           ...   \n",
      "1166109                0.0       0.0          0.0           0.0   \n",
      "1166218                0.0       0.0          0.0           0.0   \n",
      "1166219                0.0       0.0          0.0           0.0   \n",
      "1166220                0.0       0.0          0.0           0.0   \n",
      "1166517               11.2      11.2          0.0           0.0   \n",
      "\n",
      "         precipitation_hours  wind_speed_10m_max  wind_gusts_10m_max  \\\n",
      "10                       0.0                 9.7                25.9   \n",
      "12                       0.0                 9.7                25.9   \n",
      "15                       0.0                 9.7                25.9   \n",
      "58                       0.0                 7.5                28.1   \n",
      "59                       0.0                 7.5                28.1   \n",
      "...                      ...                 ...                 ...   \n",
      "1166109                  0.0                27.4                53.6   \n",
      "1166218                  0.0                11.8                28.8   \n",
      "1166219                  0.0                11.8                28.8   \n",
      "1166220                  0.0                11.8                28.8   \n",
      "1166517                 20.0                14.3                23.4   \n",
      "\n",
      "         wind_direction_10m_dominant  shortwave_radiation_sum  \\\n",
      "10                              38.0                     8.58   \n",
      "12                              38.0                     8.58   \n",
      "15                              38.0                     8.58   \n",
      "58                             356.0                     9.37   \n",
      "59                             356.0                     9.37   \n",
      "...                              ...                      ...   \n",
      "1166109                         33.0                    13.46   \n",
      "1166218                         35.0                    12.93   \n",
      "1166219                         35.0                    12.93   \n",
      "1166220                         35.0                    12.93   \n",
      "1166517                         28.0                     7.73   \n",
      "\n",
      "                       hour  \n",
      "10      2022-01-01 10:00:00  \n",
      "12      2022-01-01 12:00:00  \n",
      "15      2022-01-01 15:00:00  \n",
      "58      2022-01-03 10:00:00  \n",
      "59      2022-01-03 11:00:00  \n",
      "...                     ...  \n",
      "1166109 2024-10-29 06:00:00  \n",
      "1166218 2024-11-02 19:00:00  \n",
      "1166219 2024-11-02 20:00:00  \n",
      "1166220 2024-11-02 21:00:00  \n",
      "1166517 2024-11-15 06:00:00  \n",
      "\n",
      "[120935 rows x 52 columns]\n"
     ]
    }
   ],
   "source": [
    "negative_production = data[data[\"production\"] < 0]\n",
    "print(negative_production)\n"
   ]
  },
  {
   "cell_type": "code",
   "execution_count": 39,
   "metadata": {},
   "outputs": [],
   "source": [
    "def check_forecast_exceeds_capacity(data, forecast_columns, capacity_column='capacity'):\n",
    "    \"\"\"\n",
    "    Checks if any forecast value exceeds the plant's capacity.\n",
    "\n",
    "    Args:\n",
    "        data (pd.DataFrame): The plant forecast DataFrame.\n",
    "        forecast_columns (list): List of forecast columns to check.\n",
    "        capacity_column (str): The column that specifies plant capacity.\n",
    "\n",
    "    Returns:\n",
    "        pd.DataFrame: Rows where any forecast exceeds capacity.\n",
    "    \"\"\"\n",
    "    # Check if the capacity column exists\n",
    "    if capacity_column not in data.columns:\n",
    "        raise ValueError(f\"The capacity column '{capacity_column}' is missing in the dataset.\")\n",
    "    \n",
    "    # Broadcast the capacity column to match the shape of forecast columns\n",
    "    capacity_broadcast = data[capacity_column].values[:, None]  # Convert to 2D for alignment\n",
    "\n",
    "    # Flag rows where any forecast exceeds capacity\n",
    "    exceeded = data[\n",
    "        (data[forecast_columns] > capacity_broadcast).any(axis=1)\n",
    "    ]\n",
    "    return exceeded\n",
    "\n",
    "\n",
    "# Example usage\n",
    "# Assuming 'capacity' is a column in your data and all forecast columns start with 'fc'\n",
    "forecast_columns = [col for col in data.columns if col.startswith('fc')]\n",
    "\n",
    "# Call the function\n",
    "exceeded_capacity_rows = check_forecast_exceeds_capacity(data, forecast_columns)\n",
    "\n",
    "\n"
   ]
  },
  {
   "cell_type": "code",
   "execution_count": 40,
   "metadata": {},
   "outputs": [
    {
     "data": {
      "text/plain": [
       "['fc0', 'fc1200', 'fc40', 'fc55', 'fc60', 'fc75']"
      ]
     },
     "execution_count": 40,
     "metadata": {},
     "output_type": "execute_result"
    }
   ],
   "source": [
    "forecast_columns"
   ]
  },
  {
   "cell_type": "code",
   "execution_count": 41,
   "metadata": {},
   "outputs": [
    {
     "data": {
      "text/html": [
       "<div>\n",
       "<style scoped>\n",
       "    .dataframe tbody tr th:only-of-type {\n",
       "        vertical-align: middle;\n",
       "    }\n",
       "\n",
       "    .dataframe tbody tr th {\n",
       "        vertical-align: top;\n",
       "    }\n",
       "\n",
       "    .dataframe thead th {\n",
       "        text-align: right;\n",
       "    }\n",
       "</style>\n",
       "<table border=\"1\" class=\"dataframe\">\n",
       "  <thead>\n",
       "    <tr style=\"text-align: right;\">\n",
       "      <th></th>\n",
       "      <th>fc0</th>\n",
       "      <th>fc1200</th>\n",
       "      <th>fc40</th>\n",
       "      <th>fc55</th>\n",
       "      <th>fc60</th>\n",
       "      <th>fc75</th>\n",
       "      <th>capacity</th>\n",
       "    </tr>\n",
       "  </thead>\n",
       "  <tbody>\n",
       "    <tr>\n",
       "      <th>264266</th>\n",
       "      <td>50.669500</td>\n",
       "      <td>46.124898</td>\n",
       "      <td>50.669500</td>\n",
       "      <td>50.933973</td>\n",
       "      <td>50.933973</td>\n",
       "      <td>50.808344</td>\n",
       "      <td>50.5</td>\n",
       "    </tr>\n",
       "    <tr>\n",
       "      <th>264267</th>\n",
       "      <td>45.569531</td>\n",
       "      <td>46.937078</td>\n",
       "      <td>50.521848</td>\n",
       "      <td>50.521848</td>\n",
       "      <td>50.521848</td>\n",
       "      <td>50.521848</td>\n",
       "      <td>50.5</td>\n",
       "    </tr>\n",
       "    <tr>\n",
       "      <th>264565</th>\n",
       "      <td>51.000000</td>\n",
       "      <td>26.114803</td>\n",
       "      <td>33.823746</td>\n",
       "      <td>31.385715</td>\n",
       "      <td>31.385715</td>\n",
       "      <td>30.317658</td>\n",
       "      <td>50.5</td>\n",
       "    </tr>\n",
       "    <tr>\n",
       "      <th>264566</th>\n",
       "      <td>47.031562</td>\n",
       "      <td>26.110531</td>\n",
       "      <td>50.776141</td>\n",
       "      <td>51.000000</td>\n",
       "      <td>51.000000</td>\n",
       "      <td>51.000000</td>\n",
       "      <td>50.5</td>\n",
       "    </tr>\n",
       "    <tr>\n",
       "      <th>264900</th>\n",
       "      <td>49.991355</td>\n",
       "      <td>38.041949</td>\n",
       "      <td>50.060137</td>\n",
       "      <td>51.000000</td>\n",
       "      <td>51.000000</td>\n",
       "      <td>48.672785</td>\n",
       "      <td>50.5</td>\n",
       "    </tr>\n",
       "    <tr>\n",
       "      <th>...</th>\n",
       "      <td>...</td>\n",
       "      <td>...</td>\n",
       "      <td>...</td>\n",
       "      <td>...</td>\n",
       "      <td>...</td>\n",
       "      <td>...</td>\n",
       "      <td>...</td>\n",
       "    </tr>\n",
       "    <tr>\n",
       "      <th>1019293</th>\n",
       "      <td>1.199910</td>\n",
       "      <td>1.199940</td>\n",
       "      <td>1.199930</td>\n",
       "      <td>1.199930</td>\n",
       "      <td>1.199930</td>\n",
       "      <td>2.090960</td>\n",
       "      <td>1.2</td>\n",
       "    </tr>\n",
       "    <tr>\n",
       "      <th>1019775</th>\n",
       "      <td>1.199890</td>\n",
       "      <td>1.062690</td>\n",
       "      <td>1.199890</td>\n",
       "      <td>1.199890</td>\n",
       "      <td>1.199890</td>\n",
       "      <td>1.661660</td>\n",
       "      <td>1.2</td>\n",
       "    </tr>\n",
       "    <tr>\n",
       "      <th>1023878</th>\n",
       "      <td>1.080110</td>\n",
       "      <td>1.091320</td>\n",
       "      <td>1.080110</td>\n",
       "      <td>1.080110</td>\n",
       "      <td>1.080110</td>\n",
       "      <td>1.241640</td>\n",
       "      <td>1.2</td>\n",
       "    </tr>\n",
       "    <tr>\n",
       "      <th>1028978</th>\n",
       "      <td>1.199890</td>\n",
       "      <td>1.059660</td>\n",
       "      <td>1.199890</td>\n",
       "      <td>1.199890</td>\n",
       "      <td>1.199890</td>\n",
       "      <td>1.374940</td>\n",
       "      <td>1.2</td>\n",
       "    </tr>\n",
       "    <tr>\n",
       "      <th>1046533</th>\n",
       "      <td>1.166375</td>\n",
       "      <td>1.171305</td>\n",
       "      <td>1.072909</td>\n",
       "      <td>1.072908</td>\n",
       "      <td>1.072908</td>\n",
       "      <td>1.375015</td>\n",
       "      <td>1.2</td>\n",
       "    </tr>\n",
       "  </tbody>\n",
       "</table>\n",
       "<p>128 rows × 7 columns</p>\n",
       "</div>"
      ],
      "text/plain": [
       "               fc0     fc1200       fc40       fc55       fc60       fc75  \\\n",
       "264266   50.669500  46.124898  50.669500  50.933973  50.933973  50.808344   \n",
       "264267   45.569531  46.937078  50.521848  50.521848  50.521848  50.521848   \n",
       "264565   51.000000  26.114803  33.823746  31.385715  31.385715  30.317658   \n",
       "264566   47.031562  26.110531  50.776141  51.000000  51.000000  51.000000   \n",
       "264900   49.991355  38.041949  50.060137  51.000000  51.000000  48.672785   \n",
       "...            ...        ...        ...        ...        ...        ...   \n",
       "1019293   1.199910   1.199940   1.199930   1.199930   1.199930   2.090960   \n",
       "1019775   1.199890   1.062690   1.199890   1.199890   1.199890   1.661660   \n",
       "1023878   1.080110   1.091320   1.080110   1.080110   1.080110   1.241640   \n",
       "1028978   1.199890   1.059660   1.199890   1.199890   1.199890   1.374940   \n",
       "1046533   1.166375   1.171305   1.072909   1.072908   1.072908   1.375015   \n",
       "\n",
       "         capacity  \n",
       "264266       50.5  \n",
       "264267       50.5  \n",
       "264565       50.5  \n",
       "264566       50.5  \n",
       "264900       50.5  \n",
       "...           ...  \n",
       "1019293       1.2  \n",
       "1019775       1.2  \n",
       "1023878       1.2  \n",
       "1028978       1.2  \n",
       "1046533       1.2  \n",
       "\n",
       "[128 rows x 7 columns]"
      ]
     },
     "metadata": {},
     "output_type": "display_data"
    }
   ],
   "source": [
    "# Display exceeded rows directly in the notebook\n",
    "from IPython.display import display\n",
    "\n",
    "display(exceeded_capacity_rows[['fc0', 'fc1200', 'fc40', 'fc55', 'fc60', 'fc75', 'capacity']])\n"
   ]
  },
  {
   "cell_type": "code",
   "execution_count": 42,
   "metadata": {},
   "outputs": [],
   "source": [
    "def check_production_exceeds_capacity(data, production_column='production', capacity_column='capacity'):\n",
    "    \"\"\"\n",
    "    Checks if the produced amount exceeds the plant's capacity.\n",
    "\n",
    "    Args:\n",
    "        data (pd.DataFrame): The plant production DataFrame.\n",
    "        production_column (str): The column that specifies produced amounts.\n",
    "        capacity_column (str): The column that specifies plant capacity.\n",
    "\n",
    "    Returns:\n",
    "        pd.DataFrame: Rows where production exceeds capacity.\n",
    "    \"\"\"\n",
    "    # Check if the required columns exist\n",
    "    if production_column not in data.columns:\n",
    "        raise ValueError(f\"The production column '{production_column}' is missing in the dataset.\")\n",
    "    if capacity_column not in data.columns:\n",
    "        raise ValueError(f\"The capacity column '{capacity_column}' is missing in the dataset.\")\n",
    "\n",
    "    # Find rows where production exceeds capacity\n",
    "    exceeded = data[data[production_column] > data[capacity_column]]\n",
    "    return exceeded\n",
    "\n",
    "\n"
   ]
  },
  {
   "cell_type": "code",
   "execution_count": 43,
   "metadata": {},
   "outputs": [],
   "source": [
    "# Example usage\n",
    "# Assuming 'production' and 'capacity' are columns in your dataset\n",
    "exceeded_production_rows = check_production_exceeds_capacity(data)"
   ]
  },
  {
   "cell_type": "code",
   "execution_count": 44,
   "metadata": {},
   "outputs": [
    {
     "data": {
      "text/html": [
       "<div>\n",
       "<style scoped>\n",
       "    .dataframe tbody tr th:only-of-type {\n",
       "        vertical-align: middle;\n",
       "    }\n",
       "\n",
       "    .dataframe tbody tr th {\n",
       "        vertical-align: top;\n",
       "    }\n",
       "\n",
       "    .dataframe thead th {\n",
       "        text-align: right;\n",
       "    }\n",
       "</style>\n",
       "<table border=\"1\" class=\"dataframe\">\n",
       "  <thead>\n",
       "    <tr style=\"text-align: right;\">\n",
       "      <th></th>\n",
       "      <th>production</th>\n",
       "      <th>capacity</th>\n",
       "    </tr>\n",
       "  </thead>\n",
       "  <tbody>\n",
       "    <tr>\n",
       "      <th>24841</th>\n",
       "      <td>25.24</td>\n",
       "      <td>25.2</td>\n",
       "    </tr>\n",
       "    <tr>\n",
       "      <th>24987</th>\n",
       "      <td>25.24</td>\n",
       "      <td>25.2</td>\n",
       "    </tr>\n",
       "    <tr>\n",
       "      <th>24988</th>\n",
       "      <td>25.24</td>\n",
       "      <td>25.2</td>\n",
       "    </tr>\n",
       "    <tr>\n",
       "      <th>24989</th>\n",
       "      <td>25.24</td>\n",
       "      <td>25.2</td>\n",
       "    </tr>\n",
       "    <tr>\n",
       "      <th>24990</th>\n",
       "      <td>25.24</td>\n",
       "      <td>25.2</td>\n",
       "    </tr>\n",
       "    <tr>\n",
       "      <th>...</th>\n",
       "      <td>...</td>\n",
       "      <td>...</td>\n",
       "    </tr>\n",
       "    <tr>\n",
       "      <th>86678</th>\n",
       "      <td>25.23</td>\n",
       "      <td>25.2</td>\n",
       "    </tr>\n",
       "    <tr>\n",
       "      <th>86679</th>\n",
       "      <td>25.24</td>\n",
       "      <td>25.2</td>\n",
       "    </tr>\n",
       "    <tr>\n",
       "      <th>86680</th>\n",
       "      <td>25.21</td>\n",
       "      <td>25.2</td>\n",
       "    </tr>\n",
       "    <tr>\n",
       "      <th>86686</th>\n",
       "      <td>25.27</td>\n",
       "      <td>25.2</td>\n",
       "    </tr>\n",
       "    <tr>\n",
       "      <th>86687</th>\n",
       "      <td>25.26</td>\n",
       "      <td>25.2</td>\n",
       "    </tr>\n",
       "  </tbody>\n",
       "</table>\n",
       "<p>139 rows × 2 columns</p>\n",
       "</div>"
      ],
      "text/plain": [
       "       production  capacity\n",
       "24841       25.24      25.2\n",
       "24987       25.24      25.2\n",
       "24988       25.24      25.2\n",
       "24989       25.24      25.2\n",
       "24990       25.24      25.2\n",
       "...           ...       ...\n",
       "86678       25.23      25.2\n",
       "86679       25.24      25.2\n",
       "86680       25.21      25.2\n",
       "86686       25.27      25.2\n",
       "86687       25.26      25.2\n",
       "\n",
       "[139 rows x 2 columns]"
      ]
     },
     "metadata": {},
     "output_type": "display_data"
    }
   ],
   "source": [
    "display(exceeded_production_rows[['production', 'capacity']])"
   ]
  },
  {
   "cell_type": "code",
   "execution_count": 45,
   "metadata": {},
   "outputs": [
    {
     "name": "stdout",
     "output_type": "stream",
     "text": [
      "fc0           0.968192\n",
      "fc1200        0.919640\n",
      "fc40          0.957281\n",
      "fc55          0.955224\n",
      "fc60          0.955085\n",
      "fc75          0.952944\n",
      "production    1.000000\n",
      "Name: production, dtype: float64\n"
     ]
    },
    {
     "data": {
      "image/png": "[encoded data removed]",
      "text/plain": [
       "<Figure size 1000x800 with 2 Axes>"
      ]
     },
     "metadata": {},
     "output_type": "display_data"
    }
   ],
   "source": [
    "corr_matrix = data[forecast_columns + ['production']].corr()\n",
    "print(corr_matrix['production'])\n",
    "# Plot heatmap\n",
    "plt.figure(figsize=(10, 8))\n",
    "sns.heatmap(corr_matrix, annot=True, cmap='coolwarm', fmt=\".2f\", vmin=-1, vmax=1)\n",
    "plt.title('Correlation Matrix')\n",
    "plt.show()"
   ]
  },
  {
   "cell_type": "code",
   "execution_count": 46,
   "metadata": {},
   "outputs": [
    {
     "name": "stdout",
     "output_type": "stream",
     "text": [
      "count    1.165425e+06\n",
      "mean     3.424802e-01\n",
      "std      3.301709e-01\n",
      "min     -3.541667e-02\n",
      "25%      3.913793e-02\n",
      "50%      2.303030e-01\n",
      "75%      6.257511e-01\n",
      "max      1.002778e+00\n",
      "Name: utilization, dtype: float64\n",
      "0.3424801746329622\n"
     ]
    }
   ],
   "source": [
    "data['utilization'] = data['production'] / data['capacity']\n",
    "print(data['utilization'].describe())\n",
    "print(data['utilization'].mean())\n",
    "\n",
    "\n",
    "\n",
    "\n",
    "\n",
    "\n",
    "\n",
    "\n"
   ]
  },
  {
   "cell_type": "code",
   "execution_count": 47,
   "metadata": {},
   "outputs": [],
   "source": [
    "#Filter production data for each Plant to avoid multiple production values for each hour\n",
    "production_data = data.groupby(['plant_name', 'effectivedate'])['production'].first().reset_index()"
   ]
  },
  {
   "cell_type": "code",
   "execution_count": 48,
   "metadata": {},
   "outputs": [
    {
     "data": {
      "text/html": [
       "<div>\n",
       "<style scoped>\n",
       "    .dataframe tbody tr th:only-of-type {\n",
       "        vertical-align: middle;\n",
       "    }\n",
       "\n",
       "    .dataframe tbody tr th {\n",
       "        vertical-align: top;\n",
       "    }\n",
       "\n",
       "    .dataframe thead th {\n",
       "        text-align: right;\n",
       "    }\n",
       "</style>\n",
       "<table border=\"1\" class=\"dataframe\">\n",
       "  <thead>\n",
       "    <tr style=\"text-align: right;\">\n",
       "      <th></th>\n",
       "      <th>plant_name</th>\n",
       "      <th>effectivedate</th>\n",
       "      <th>production</th>\n",
       "    </tr>\n",
       "  </thead>\n",
       "  <tbody>\n",
       "    <tr>\n",
       "      <th>0</th>\n",
       "      <td>Plant A</td>\n",
       "      <td>2022-01-01 00:00:00</td>\n",
       "      <td>11.886</td>\n",
       "    </tr>\n",
       "    <tr>\n",
       "      <th>1</th>\n",
       "      <td>Plant A</td>\n",
       "      <td>2022-01-01 01:00:00</td>\n",
       "      <td>9.897</td>\n",
       "    </tr>\n",
       "    <tr>\n",
       "      <th>2</th>\n",
       "      <td>Plant A</td>\n",
       "      <td>2022-01-01 02:00:00</td>\n",
       "      <td>7.659</td>\n",
       "    </tr>\n",
       "    <tr>\n",
       "      <th>3</th>\n",
       "      <td>Plant A</td>\n",
       "      <td>2022-01-01 03:00:00</td>\n",
       "      <td>0.332</td>\n",
       "    </tr>\n",
       "    <tr>\n",
       "      <th>4</th>\n",
       "      <td>Plant A</td>\n",
       "      <td>2022-01-01 04:00:00</td>\n",
       "      <td>0.251</td>\n",
       "    </tr>\n",
       "    <tr>\n",
       "      <th>...</th>\n",
       "      <td>...</td>\n",
       "      <td>...</td>\n",
       "      <td>...</td>\n",
       "    </tr>\n",
       "    <tr>\n",
       "      <th>337363</th>\n",
       "      <td>Plant N</td>\n",
       "      <td>2024-11-30 19:00:00</td>\n",
       "      <td>12.280</td>\n",
       "    </tr>\n",
       "    <tr>\n",
       "      <th>337364</th>\n",
       "      <td>Plant N</td>\n",
       "      <td>2024-11-30 20:00:00</td>\n",
       "      <td>8.940</td>\n",
       "    </tr>\n",
       "    <tr>\n",
       "      <th>337365</th>\n",
       "      <td>Plant N</td>\n",
       "      <td>2024-11-30 21:00:00</td>\n",
       "      <td>11.980</td>\n",
       "    </tr>\n",
       "    <tr>\n",
       "      <th>337366</th>\n",
       "      <td>Plant N</td>\n",
       "      <td>2024-11-30 22:00:00</td>\n",
       "      <td>17.280</td>\n",
       "    </tr>\n",
       "    <tr>\n",
       "      <th>337367</th>\n",
       "      <td>Plant N</td>\n",
       "      <td>2024-11-30 23:00:00</td>\n",
       "      <td>11.210</td>\n",
       "    </tr>\n",
       "  </tbody>\n",
       "</table>\n",
       "<p>337368 rows × 3 columns</p>\n",
       "</div>"
      ],
      "text/plain": [
       "       plant_name       effectivedate  production\n",
       "0         Plant A 2022-01-01 00:00:00      11.886\n",
       "1         Plant A 2022-01-01 01:00:00       9.897\n",
       "2         Plant A 2022-01-01 02:00:00       7.659\n",
       "3         Plant A 2022-01-01 03:00:00       0.332\n",
       "4         Plant A 2022-01-01 04:00:00       0.251\n",
       "...           ...                 ...         ...\n",
       "337363    Plant N 2024-11-30 19:00:00      12.280\n",
       "337364    Plant N 2024-11-30 20:00:00       8.940\n",
       "337365    Plant N 2024-11-30 21:00:00      11.980\n",
       "337366    Plant N 2024-11-30 22:00:00      17.280\n",
       "337367    Plant N 2024-11-30 23:00:00      11.210\n",
       "\n",
       "[337368 rows x 3 columns]"
      ]
     },
     "execution_count": 48,
     "metadata": {},
     "output_type": "execute_result"
    }
   ],
   "source": [
    "production_data"
   ]
  },
  {
   "cell_type": "code",
   "execution_count": 49,
   "metadata": {},
   "outputs": [
    {
     "data": {
      "text/plain": [
       "25560"
      ]
     },
     "execution_count": 49,
     "metadata": {},
     "output_type": "execute_result"
    }
   ],
   "source": [
    "plant_a_production = production_data[production_data['plant_name'] == 'Plant A']\n",
    "len(plant_a_production)"
   ]
  },
  {
   "cell_type": "code",
   "execution_count": 50,
   "metadata": {},
   "outputs": [
    {
     "data": {
      "image/png": "[encoded data removed]",
      "text/plain": [
       "<Figure size 640x480 with 1 Axes>"
      ]
     },
     "metadata": {},
     "output_type": "display_data"
    }
   ],
   "source": [
    "\n",
    "sns.histplot(plant_a_production, kde=True)\n",
    "plt.title('Distribution of Actual Production of Plant A')\n",
    "plt.show()\n",
    "#TODO fc_0 and fc1200 plotting\n"
   ]
  },
  {
   "cell_type": "code",
   "execution_count": 51,
   "metadata": {},
   "outputs": [],
   "source": [
    "fc_0_plant_a = data.groupby(['plant_name', 'effectivedate','forecast_provider'])['fc0'].first().reset_index()"
   ]
  },
  {
   "cell_type": "code",
   "execution_count": 52,
   "metadata": {},
   "outputs": [
    {
     "data": {
      "text/html": [
       "<div>\n",
       "<style scoped>\n",
       "    .dataframe tbody tr th:only-of-type {\n",
       "        vertical-align: middle;\n",
       "    }\n",
       "\n",
       "    .dataframe tbody tr th {\n",
       "        vertical-align: top;\n",
       "    }\n",
       "\n",
       "    .dataframe thead th {\n",
       "        text-align: right;\n",
       "    }\n",
       "</style>\n",
       "<table border=\"1\" class=\"dataframe\">\n",
       "  <thead>\n",
       "    <tr style=\"text-align: right;\">\n",
       "      <th></th>\n",
       "      <th>plant_name</th>\n",
       "      <th>effectivedate</th>\n",
       "      <th>forecast_provider</th>\n",
       "      <th>fc0</th>\n",
       "    </tr>\n",
       "  </thead>\n",
       "  <tbody>\n",
       "    <tr>\n",
       "      <th>1166868</th>\n",
       "      <td>Plant N</td>\n",
       "      <td>2024-11-30 22:00:00</td>\n",
       "      <td>Provider 6</td>\n",
       "      <td>7.785483</td>\n",
       "    </tr>\n",
       "    <tr>\n",
       "      <th>1166869</th>\n",
       "      <td>Plant N</td>\n",
       "      <td>2024-11-30 23:00:00</td>\n",
       "      <td>Provider 1</td>\n",
       "      <td>12.228749</td>\n",
       "    </tr>\n",
       "    <tr>\n",
       "      <th>1166870</th>\n",
       "      <td>Plant N</td>\n",
       "      <td>2024-11-30 23:00:00</td>\n",
       "      <td>Provider 2</td>\n",
       "      <td>14.693318</td>\n",
       "    </tr>\n",
       "    <tr>\n",
       "      <th>1166871</th>\n",
       "      <td>Plant N</td>\n",
       "      <td>2024-11-30 23:00:00</td>\n",
       "      <td>Provider 5</td>\n",
       "      <td>14.693320</td>\n",
       "    </tr>\n",
       "    <tr>\n",
       "      <th>1166872</th>\n",
       "      <td>Plant N</td>\n",
       "      <td>2024-11-30 23:00:00</td>\n",
       "      <td>Provider 6</td>\n",
       "      <td>13.564514</td>\n",
       "    </tr>\n",
       "  </tbody>\n",
       "</table>\n",
       "</div>"
      ],
      "text/plain": [
       "        plant_name       effectivedate forecast_provider        fc0\n",
       "1166868    Plant N 2024-11-30 22:00:00        Provider 6   7.785483\n",
       "1166869    Plant N 2024-11-30 23:00:00        Provider 1  12.228749\n",
       "1166870    Plant N 2024-11-30 23:00:00        Provider 2  14.693318\n",
       "1166871    Plant N 2024-11-30 23:00:00        Provider 5  14.693320\n",
       "1166872    Plant N 2024-11-30 23:00:00        Provider 6  13.564514"
      ]
     },
     "execution_count": 52,
     "metadata": {},
     "output_type": "execute_result"
    }
   ],
   "source": [
    "fc_0_plant_a.tail()"
   ]
  },
  {
   "cell_type": "code",
   "execution_count": 53,
   "metadata": {},
   "outputs": [],
   "source": [
    "fc_0_plant_a_provider1= fc_0_plant_a[(fc_0_plant_a['plant_name'] == 'Plant A') & (fc_0_plant_a['forecast_provider'] == 'Provider 1')]\n"
   ]
  },
  {
   "cell_type": "code",
   "execution_count": 54,
   "metadata": {},
   "outputs": [
    {
     "data": {
      "text/html": [
       "<div>\n",
       "<style scoped>\n",
       "    .dataframe tbody tr th:only-of-type {\n",
       "        vertical-align: middle;\n",
       "    }\n",
       "\n",
       "    .dataframe tbody tr th {\n",
       "        vertical-align: top;\n",
       "    }\n",
       "\n",
       "    .dataframe thead th {\n",
       "        text-align: right;\n",
       "    }\n",
       "</style>\n",
       "<table border=\"1\" class=\"dataframe\">\n",
       "  <thead>\n",
       "    <tr style=\"text-align: right;\">\n",
       "      <th></th>\n",
       "      <th>plant_name</th>\n",
       "      <th>effectivedate</th>\n",
       "      <th>forecast_provider</th>\n",
       "      <th>fc0</th>\n",
       "    </tr>\n",
       "  </thead>\n",
       "  <tbody>\n",
       "    <tr>\n",
       "      <th>0</th>\n",
       "      <td>Plant A</td>\n",
       "      <td>2022-01-01 00:00:00</td>\n",
       "      <td>Provider 1</td>\n",
       "      <td>5.498515</td>\n",
       "    </tr>\n",
       "    <tr>\n",
       "      <th>3</th>\n",
       "      <td>Plant A</td>\n",
       "      <td>2022-01-01 01:00:00</td>\n",
       "      <td>Provider 1</td>\n",
       "      <td>9.926987</td>\n",
       "    </tr>\n",
       "    <tr>\n",
       "      <th>6</th>\n",
       "      <td>Plant A</td>\n",
       "      <td>2022-01-01 02:00:00</td>\n",
       "      <td>Provider 1</td>\n",
       "      <td>6.701120</td>\n",
       "    </tr>\n",
       "    <tr>\n",
       "      <th>9</th>\n",
       "      <td>Plant A</td>\n",
       "      <td>2022-01-01 03:00:00</td>\n",
       "      <td>Provider 1</td>\n",
       "      <td>7.487892</td>\n",
       "    </tr>\n",
       "    <tr>\n",
       "      <th>12</th>\n",
       "      <td>Plant A</td>\n",
       "      <td>2022-01-01 04:00:00</td>\n",
       "      <td>Provider 1</td>\n",
       "      <td>0.367348</td>\n",
       "    </tr>\n",
       "  </tbody>\n",
       "</table>\n",
       "</div>"
      ],
      "text/plain": [
       "   plant_name       effectivedate forecast_provider       fc0\n",
       "0     Plant A 2022-01-01 00:00:00        Provider 1  5.498515\n",
       "3     Plant A 2022-01-01 01:00:00        Provider 1  9.926987\n",
       "6     Plant A 2022-01-01 02:00:00        Provider 1  6.701120\n",
       "9     Plant A 2022-01-01 03:00:00        Provider 1  7.487892\n",
       "12    Plant A 2022-01-01 04:00:00        Provider 1  0.367348"
      ]
     },
     "execution_count": 54,
     "metadata": {},
     "output_type": "execute_result"
    }
   ],
   "source": [
    "fc_0_plant_a_provider1.head()"
   ]
  },
  {
   "cell_type": "code",
   "execution_count": 70,
   "metadata": {},
   "outputs": [
    {
     "data": {
      "image/png": "[encoded data removed]",
      "text/plain": [
       "<Figure size 640x480 with 1 Axes>"
      ]
     },
     "metadata": {},
     "output_type": "display_data"
    }
   ],
   "source": [
    "sns.histplot(fc_0_plant_a_provider1, kde=True)\n",
    "plt.title('Distribution of Fc0 of Plant A')\n",
    "plt.show()"
   ]
  },
  {
   "cell_type": "code",
   "execution_count": 43,
   "metadata": {},
   "outputs": [
    {
     "data": {
      "text/plain": [
       "25519"
      ]
     },
     "execution_count": 43,
     "metadata": {},
     "output_type": "execute_result"
    }
   ],
   "source": [
    "plant_b_production = production_data[production_data['plant_name'] == 'Plant B']\n",
    "len(plant_b_production)"
   ]
  },
  {
   "cell_type": "code",
   "execution_count": null,
   "metadata": {},
   "outputs": [
    {
     "data": {
      "image/png": "[encoded data removed]",
      "text/plain": [
       "<Figure size 640x480 with 1 Axes>"
      ]
     },
     "metadata": {},
     "output_type": "display_data"
    }
   ],
   "source": [
    "\n",
    "sns.histplot(plant_b_production, kde=True)\n",
    "plt.title('Distribution of Actual Production of Plant B')\n",
    "plt.show()\n"
   ]
  },
  {
   "cell_type": "code",
   "execution_count": 37,
   "metadata": {},
   "outputs": [
    {
     "data": {
      "text/plain": [
       "25519"
      ]
     },
     "execution_count": 37,
     "metadata": {},
     "output_type": "execute_result"
    }
   ],
   "source": [
    "plant_c_production = production_data[production_data['plant_name'] == 'Plant C']\n",
    "len(plant_c_production)"
   ]
  },
  {
   "cell_type": "code",
   "execution_count": null,
   "metadata": {},
   "outputs": [
    {
     "data": {
      "image/png": "[encoded data removed]",
      "text/plain": [
       "<Figure size 640x480 with 1 Axes>"
      ]
     },
     "metadata": {},
     "output_type": "display_data"
    }
   ],
   "source": [
    "\n",
    "sns.histplot(plant_c_production, kde=True)\n",
    "plt.title('Distribution of Actual Production of Plant C')\n",
    "plt.show()"
   ]
  },
  {
   "cell_type": "code",
   "execution_count": 46,
   "metadata": {},
   "outputs": [
    {
     "data": {
      "text/plain": [
       "25519"
      ]
     },
     "execution_count": 46,
     "metadata": {},
     "output_type": "execute_result"
    }
   ],
   "source": [
    "plant_d_production = production_data[production_data['plant_name'] == 'Plant D']\n",
    "len(plant_d_production)"
   ]
  },
  {
   "cell_type": "code",
   "execution_count": 47,
   "metadata": {},
   "outputs": [
    {
     "data": {
      "image/png": "[encoded data removed]",
      "text/plain": [
       "<Figure size 640x480 with 1 Axes>"
      ]
     },
     "metadata": {},
     "output_type": "display_data"
    }
   ],
   "source": [
    "sns.histplot(plant_d_production, kde=True)\n",
    "plt.title('Distribution of Actual Production of Plant D')\n",
    "plt.show()"
   ]
  },
  {
   "cell_type": "code",
   "execution_count": 58,
   "metadata": {},
   "outputs": [
    {
     "name": "stdout",
     "output_type": "stream",
     "text": [
      "Provider: Provider 1, MAE: 1.9968529270167898\n",
      "Provider: Provider 2, MAE: 2.173832999188433\n",
      "Provider: Provider 5, MAE: 2.060111474603235\n",
      "Provider: Provider 6, MAE: 1.8248543040113396\n",
      "Provider: Provider 3, MAE: 6.9212569188191875\n",
      "Provider: Provider 4, MAE: 2.7958477263278567\n"
     ]
    }
   ],
   "source": [
    "from sklearn.metrics import mean_absolute_error\n",
    "\n",
    "#provider with least mae for fc0\n",
    "providers = data['forecast_provider'].unique()\n",
    "for provider in providers:\n",
    "    provider_data = data[data['forecast_provider'] == provider]\n",
    "    mae = mean_absolute_error(provider_data['production'], provider_data['fc0'])\n",
    "    print(f\"Provider: {provider}, MAE: {mae}\")\n",
    "#TODO scale by capacity"
   ]
  },
  {
   "cell_type": "code",
   "execution_count": 60,
   "metadata": {},
   "outputs": [
    {
     "name": "stdout",
     "output_type": "stream",
     "text": [
      "Provider: Provider 1, MAE: 3.9118430397939443\n",
      "Provider: Provider 2, MAE: 3.340451868277446\n",
      "Provider: Provider 5, MAE: 3.264996920012563\n",
      "Provider: Provider 6, MAE: 2.9700853169609633\n",
      "Provider: Provider 3, MAE: 8.922316420664206\n",
      "Provider: Provider 4, MAE: 3.309740814771547\n"
     ]
    }
   ],
   "source": [
    "#provider with least mae for fc0\n",
    "providers = data['forecast_provider'].unique()\n",
    "for provider in providers:\n",
    "    provider_data = data[data['forecast_provider'] == provider]\n",
    "    mae = mean_absolute_error(provider_data['production'], provider_data['fc1200'])\n",
    "    print(f\"Provider: {provider}, MAE: {mae}\")\n",
    "#TODO scale by capacity"
   ]
  },
  {
   "cell_type": "code",
   "execution_count": null,
   "metadata": {},
   "outputs": [],
   "source": []
  }
 ],
 "metadata": {
  "kernelspec": {
   "display_name": "Python 3 (ipykernel)",
   "language": "python",
   "name": "python3"
  },
  "language_info": {
   "codemirror_mode": {
    "name": "ipython",
    "version": 3
   },
   "file_extension": ".py",
   "mimetype": "text/x-python",
   "name": "python",
   "nbconvert_exporter": "python",
   "pygments_lexer": "ipython3",
   "version": "3.10.9"
  }
 },
 "nbformat": 4,
 "nbformat_minor": 2
}
